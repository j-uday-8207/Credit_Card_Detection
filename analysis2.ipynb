{
 "cells": [
  {
   "cell_type": "code",
   "execution_count": 57,
   "metadata": {},
   "outputs": [],
   "source": [
    "import pandas as pd\n",
    "import numpy as np\n",
    "from decisionTree import DecisionTree\n",
    "from randomForestt import RandomForest"
   ]
  },
  {
   "cell_type": "code",
   "execution_count": 58,
   "metadata": {},
   "outputs": [],
   "source": [
    "%store -r total"
   ]
  },
  {
   "cell_type": "code",
   "execution_count": 48,
   "metadata": {},
   "outputs": [],
   "source": [
    "test_df = total.head(555719)\n",
    "train_df = total.tail(len(total) - 555719)"
   ]
  },
  {
   "cell_type": "code",
   "execution_count": 49,
   "metadata": {},
   "outputs": [],
   "source": [
    "train_df = train_df.sample(n=10000, random_state=42)\n",
    "test_df = test_df.sample(n=2000, random_state=42)"
   ]
  },
  {
   "cell_type": "code",
   "execution_count": 16,
   "metadata": {},
   "outputs": [],
   "source": [
    "from sklearn.preprocessing import LabelEncoder\n",
    "\n",
    "# Suppose df is your DataFrame with non-numeric columns\n",
    "\n",
    "# Initialize LabelEncoder\n",
    "label_encoder = LabelEncoder()\n",
    "\n",
    "# Apply LabelEncoder to each non-numeric column\n",
    "for col in train_df.columns:\n",
    "    if train_df[col].dtype == 'object':\n",
    "        train_df[col] = label_encoder.fit_transform(train_df[col])\n",
    "    if train_df[col].dtype == 'datetime64[ns]':\n",
    "        train_df[col] = label_encoder.fit_transform(train_df[col])\n",
    "\n",
    "\n",
    "for col in test_df.columns:\n",
    "    if test_df[col].dtype == 'object':\n",
    "        test_df[col] = label_encoder.fit_transform(test_df[col])\n",
    "    if test_df[col].dtype == 'datetime64[ns]':\n",
    "        test_df[col] = label_encoder.fit_transform(test_df[col])\n"
   ]
  },
  {
   "cell_type": "code",
   "execution_count": 33,
   "metadata": {},
   "outputs": [
    {
     "data": {
      "text/html": [
       "<div>\n",
       "<style scoped>\n",
       "    .dataframe tbody tr th:only-of-type {\n",
       "        vertical-align: middle;\n",
       "    }\n",
       "\n",
       "    .dataframe tbody tr th {\n",
       "        vertical-align: top;\n",
       "    }\n",
       "\n",
       "    .dataframe thead th {\n",
       "        text-align: right;\n",
       "    }\n",
       "</style>\n",
       "<table border=\"1\" class=\"dataframe\">\n",
       "  <thead>\n",
       "    <tr style=\"text-align: right;\">\n",
       "      <th></th>\n",
       "      <th>trans_date_trans_time</th>\n",
       "      <th>cc_num</th>\n",
       "      <th>merchant</th>\n",
       "      <th>amt</th>\n",
       "      <th>first</th>\n",
       "      <th>last</th>\n",
       "      <th>gender</th>\n",
       "      <th>street</th>\n",
       "      <th>city</th>\n",
       "      <th>state</th>\n",
       "      <th>...</th>\n",
       "      <th>lat</th>\n",
       "      <th>long</th>\n",
       "      <th>city_pop</th>\n",
       "      <th>job</th>\n",
       "      <th>dob</th>\n",
       "      <th>trans_num</th>\n",
       "      <th>unix_time</th>\n",
       "      <th>merch_lat</th>\n",
       "      <th>merch_long</th>\n",
       "      <th>is_fraud</th>\n",
       "    </tr>\n",
       "  </thead>\n",
       "  <tbody>\n",
       "    <tr>\n",
       "      <th>1045211</th>\n",
       "      <td>2020-03-09 15:09:26</td>\n",
       "      <td>577588686219</td>\n",
       "      <td>fraud_Towne LLC</td>\n",
       "      <td>194.51</td>\n",
       "      <td>James</td>\n",
       "      <td>Strickland</td>\n",
       "      <td>M</td>\n",
       "      <td>25454 Leonard Lake</td>\n",
       "      <td>Spring Church</td>\n",
       "      <td>PA</td>\n",
       "      <td>...</td>\n",
       "      <td>40.6153</td>\n",
       "      <td>-79.4545</td>\n",
       "      <td>972</td>\n",
       "      <td>Public relations account executive</td>\n",
       "      <td>1997-10-23</td>\n",
       "      <td>fff87d4340ef756a592eac652493cf6b</td>\n",
       "      <td>1362841766</td>\n",
       "      <td>40.420453</td>\n",
       "      <td>-78.865012</td>\n",
       "      <td>0</td>\n",
       "    </tr>\n",
       "    <tr>\n",
       "      <th>547406</th>\n",
       "      <td>2019-08-22 15:49:01</td>\n",
       "      <td>30376238035123</td>\n",
       "      <td>fraud_Friesen Ltd</td>\n",
       "      <td>52.32</td>\n",
       "      <td>Cynthia</td>\n",
       "      <td>Davis</td>\n",
       "      <td>F</td>\n",
       "      <td>7177 Steven Forges</td>\n",
       "      <td>Sixes</td>\n",
       "      <td>OR</td>\n",
       "      <td>...</td>\n",
       "      <td>42.8250</td>\n",
       "      <td>-124.4409</td>\n",
       "      <td>217</td>\n",
       "      <td>Retail merchandiser</td>\n",
       "      <td>1928-10-01</td>\n",
       "      <td>d0ad335af432f35578eea01d639b3621</td>\n",
       "      <td>1345650541</td>\n",
       "      <td>42.758860</td>\n",
       "      <td>-123.636337</td>\n",
       "      <td>0</td>\n",
       "    </tr>\n",
       "    <tr>\n",
       "      <th>110142</th>\n",
       "      <td>2019-03-04 01:34:16</td>\n",
       "      <td>4658490815480264</td>\n",
       "      <td>fraud_Mohr Inc</td>\n",
       "      <td>6.53</td>\n",
       "      <td>Tara</td>\n",
       "      <td>Richards</td>\n",
       "      <td>F</td>\n",
       "      <td>4879 Cristina Station</td>\n",
       "      <td>Keisterville</td>\n",
       "      <td>PA</td>\n",
       "      <td>...</td>\n",
       "      <td>39.9636</td>\n",
       "      <td>-79.7853</td>\n",
       "      <td>184</td>\n",
       "      <td>Systems developer</td>\n",
       "      <td>1945-11-04</td>\n",
       "      <td>87f26e3ea33f4ff4c7a8bad2c7f48686</td>\n",
       "      <td>1330824856</td>\n",
       "      <td>40.475159</td>\n",
       "      <td>-78.898190</td>\n",
       "      <td>0</td>\n",
       "    </tr>\n",
       "    <tr>\n",
       "      <th>1285953</th>\n",
       "      <td>2020-06-16 20:04:38</td>\n",
       "      <td>3514897282719543</td>\n",
       "      <td>fraud_Gaylord-Powlowski</td>\n",
       "      <td>7.33</td>\n",
       "      <td>Steven</td>\n",
       "      <td>Faulkner</td>\n",
       "      <td>M</td>\n",
       "      <td>841 Cheryl Centers Suite 115</td>\n",
       "      <td>Farmington</td>\n",
       "      <td>NY</td>\n",
       "      <td>...</td>\n",
       "      <td>42.9580</td>\n",
       "      <td>-77.3083</td>\n",
       "      <td>10717</td>\n",
       "      <td>Cytogeneticist</td>\n",
       "      <td>1952-10-13</td>\n",
       "      <td>9c34015321c0fa2ae6fd20f9359d1d3e</td>\n",
       "      <td>1371413078</td>\n",
       "      <td>43.767506</td>\n",
       "      <td>-76.542384</td>\n",
       "      <td>0</td>\n",
       "    </tr>\n",
       "    <tr>\n",
       "      <th>271705</th>\n",
       "      <td>2019-05-14 05:54:48</td>\n",
       "      <td>6011381817520024</td>\n",
       "      <td>fraud_Christiansen, Goyette and Schamberger</td>\n",
       "      <td>64.29</td>\n",
       "      <td>Kristen</td>\n",
       "      <td>Allen</td>\n",
       "      <td>F</td>\n",
       "      <td>8619 Lisa Manors Apt. 871</td>\n",
       "      <td>Lagrange</td>\n",
       "      <td>WY</td>\n",
       "      <td>...</td>\n",
       "      <td>41.6423</td>\n",
       "      <td>-104.1974</td>\n",
       "      <td>635</td>\n",
       "      <td>Product/process development scientist</td>\n",
       "      <td>1973-07-13</td>\n",
       "      <td>198437c05676f485e9be04449c664475</td>\n",
       "      <td>1336974888</td>\n",
       "      <td>41.040392</td>\n",
       "      <td>-104.092324</td>\n",
       "      <td>0</td>\n",
       "    </tr>\n",
       "  </tbody>\n",
       "</table>\n",
       "<p>5 rows × 21 columns</p>\n",
       "</div>"
      ],
      "text/plain": [
       "        trans_date_trans_time            cc_num  \\\n",
       "1045211   2020-03-09 15:09:26      577588686219   \n",
       "547406    2019-08-22 15:49:01    30376238035123   \n",
       "110142    2019-03-04 01:34:16  4658490815480264   \n",
       "1285953   2020-06-16 20:04:38  3514897282719543   \n",
       "271705    2019-05-14 05:54:48  6011381817520024   \n",
       "\n",
       "                                            merchant     amt    first  \\\n",
       "1045211                              fraud_Towne LLC  194.51    James   \n",
       "547406                             fraud_Friesen Ltd   52.32  Cynthia   \n",
       "110142                                fraud_Mohr Inc    6.53     Tara   \n",
       "1285953                      fraud_Gaylord-Powlowski    7.33   Steven   \n",
       "271705   fraud_Christiansen, Goyette and Schamberger   64.29  Kristen   \n",
       "\n",
       "               last gender                        street           city state  \\\n",
       "1045211  Strickland      M            25454 Leonard Lake  Spring Church    PA   \n",
       "547406        Davis      F            7177 Steven Forges          Sixes    OR   \n",
       "110142     Richards      F         4879 Cristina Station   Keisterville    PA   \n",
       "1285953    Faulkner      M  841 Cheryl Centers Suite 115     Farmington    NY   \n",
       "271705        Allen      F     8619 Lisa Manors Apt. 871       Lagrange    WY   \n",
       "\n",
       "         ...      lat      long  city_pop  \\\n",
       "1045211  ...  40.6153  -79.4545       972   \n",
       "547406   ...  42.8250 -124.4409       217   \n",
       "110142   ...  39.9636  -79.7853       184   \n",
       "1285953  ...  42.9580  -77.3083     10717   \n",
       "271705   ...  41.6423 -104.1974       635   \n",
       "\n",
       "                                           job         dob  \\\n",
       "1045211     Public relations account executive  1997-10-23   \n",
       "547406                     Retail merchandiser  1928-10-01   \n",
       "110142                       Systems developer  1945-11-04   \n",
       "1285953                         Cytogeneticist  1952-10-13   \n",
       "271705   Product/process development scientist  1973-07-13   \n",
       "\n",
       "                                trans_num   unix_time  merch_lat  merch_long  \\\n",
       "1045211  fff87d4340ef756a592eac652493cf6b  1362841766  40.420453  -78.865012   \n",
       "547406   d0ad335af432f35578eea01d639b3621  1345650541  42.758860 -123.636337   \n",
       "110142   87f26e3ea33f4ff4c7a8bad2c7f48686  1330824856  40.475159  -78.898190   \n",
       "1285953  9c34015321c0fa2ae6fd20f9359d1d3e  1371413078  43.767506  -76.542384   \n",
       "271705   198437c05676f485e9be04449c664475  1336974888  41.040392 -104.092324   \n",
       "\n",
       "         is_fraud  \n",
       "1045211         0  \n",
       "547406          0  \n",
       "110142          0  \n",
       "1285953         0  \n",
       "271705          0  \n",
       "\n",
       "[5 rows x 21 columns]"
      ]
     },
     "execution_count": 33,
     "metadata": {},
     "output_type": "execute_result"
    }
   ],
   "source": [
    "train_df.head()"
   ]
  },
  {
   "cell_type": "code",
   "execution_count": 50,
   "metadata": {},
   "outputs": [],
   "source": [
    "X_train = train_df.drop([\"is_fraud\"], axis=1).values #Setting the X to do the split\n",
    "y_train = train_df[\"is_fraud\"].values # transforming the values in array\n",
    "\n",
    "X_test = test_df.drop([\"is_fraud\"], axis=1).values #Setting the X to do the split\n",
    "y_test = test_df[\"is_fraud\"].values # transforming the values in array"
   ]
  },
  {
   "cell_type": "code",
   "execution_count": 51,
   "metadata": {},
   "outputs": [
    {
     "name": "stdout",
     "output_type": "stream",
     "text": [
      "Unique values in y_train: [0 1]\n",
      "Counts of unique values in y_train: [9941   59]\n",
      "Unique values in y_test: [0 1]\n",
      "Counts of unique values in y_test: [1996    4]\n"
     ]
    }
   ],
   "source": [
    "unique_values_train, counts_train = np.unique(y_train, return_counts=True)\n",
    "print(\"Unique values in y_train:\", unique_values_train)\n",
    "print(\"Counts of unique values in y_train:\", counts_train)\n",
    "\n",
    "unique_values_test, counts_test = np.unique(y_test, return_counts=True)\n",
    "print(\"Unique values in y_test:\", unique_values_test)\n",
    "print(\"Counts of unique values in y_test:\", counts_test)"
   ]
  },
  {
   "cell_type": "code",
   "execution_count": 20,
   "metadata": {},
   "outputs": [],
   "source": [
    "from imblearn.over_sampling import SMOTE\n",
    "\n",
    "smote = SMOTE(random_state=42)\n",
    "\n",
    "# Apply SMOTE to the training data\n",
    "X_resampled, y_resampled = smote.fit_resample(X_train, y_train)"
   ]
  },
  {
   "cell_type": "code",
   "execution_count": 52,
   "metadata": {},
   "outputs": [],
   "source": [
    "tree = DecisionTree(max_depth=None, min_samples_split=10, min_samples_leaf=4)\n",
    "tree.fit(X_train, y_train)"
   ]
  },
  {
   "cell_type": "code",
   "execution_count": 53,
   "metadata": {},
   "outputs": [],
   "source": [
    "from sklearn.metrics import accuracy_score\n",
    "from sklearn.metrics import precision_recall_curve, auc\n",
    "\n",
    "import matplotlib.pyplot as plt\n",
    "\n",
    "from sklearn.metrics import f1_score"
   ]
  },
  {
   "cell_type": "code",
   "execution_count": 54,
   "metadata": {},
   "outputs": [
    {
     "name": "stdout",
     "output_type": "stream",
     "text": [
      "Accuracy: 0.9945\n"
     ]
    }
   ],
   "source": [
    "\n",
    "# Make predictions on the test data\n",
    "y_pred = tree.predict(X_test)\n",
    "\n",
    "# Evaluate the classifier's performance\n",
    "accuracy = accuracy_score(y_test, y_pred)\n",
    "print(\"Accuracy:\", accuracy)"
   ]
  },
  {
   "cell_type": "code",
   "execution_count": 55,
   "metadata": {},
   "outputs": [
    {
     "name": "stdout",
     "output_type": "stream",
     "text": [
      "Area Under Precision-Recall Curve (AUPR): 0.34140909090909094\n"
     ]
    },
    {
     "data": {
      "image/png": "[encoded data removed]",
      "text/plain": [
       "<Figure size 432x288 with 1 Axes>"
      ]
     },
     "metadata": {
      "needs_background": "light"
     },
     "output_type": "display_data"
    }
   ],
   "source": [
    "\n",
    "# Step 2: Calculate precision and recall\n",
    "precision, recall, thresholds = precision_recall_curve(y_test, y_pred)\n",
    "\n",
    "# Step 3: Plot the Precision-Recall Curve\n",
    "\n",
    "plt.plot(recall, precision, marker='.')\n",
    "plt.xlabel('Recall')\n",
    "plt.ylabel('Precision')\n",
    "plt.title('Precision-Recall Curve')\n",
    "\n",
    "# Step 4: Compute AUPR\n",
    "aupr = auc(recall, precision)\n",
    "print(\"Area Under Precision-Recall Curve (AUPR):\", aupr)"
   ]
  },
  {
   "cell_type": "code",
   "execution_count": 56,
   "metadata": {},
   "outputs": [
    {
     "name": "stdout",
     "output_type": "stream",
     "text": [
      "F1 Score: 0.26666666666666666\n"
     ]
    }
   ],
   "source": [
    "\n",
    "# Assuming y_true contains the true labels and y_pred contains the predicted labels\n",
    "f1 = f1_score(y_test, y_pred)\n",
    "\n",
    "print(\"F1 Score:\", f1)"
   ]
  },
  {
   "cell_type": "code",
   "execution_count": 40,
   "metadata": {},
   "outputs": [
    {
     "name": "stdout",
     "output_type": "stream",
     "text": [
      "Accuracy: 0.998\n"
     ]
    }
   ],
   "source": [
    "rf_classifier = RandomForest(n_estimators=50,\n",
    "                                        max_depth=None,\n",
    "                                        min_samples_split=10,\n",
    "                                        min_samples_leaf=2)\n",
    "rf_classifier.fit(X_train, y_train)\n",
    "\n",
    "# Make predictions\n",
    "y_pred = rf_classifier.predict(X_test)\n",
    "\n",
    "# Evaluate the classifier's performance\n",
    "accuracy = accuracy_score(y_test, y_pred)\n",
    "print(\"Accuracy:\", accuracy)"
   ]
  },
  {
   "cell_type": "code",
   "execution_count": 41,
   "metadata": {},
   "outputs": [
    {
     "name": "stdout",
     "output_type": "stream",
     "text": [
      "Area Under Precision-Recall Curve (AUPR): 0.501\n"
     ]
    },
    {
     "data": {
      "image/png": "[encoded data removed]",
      "text/plain": [
       "<Figure size 432x288 with 1 Axes>"
      ]
     },
     "metadata": {
      "needs_background": "light"
     },
     "output_type": "display_data"
    }
   ],
   "source": [
    "\n",
    "# Step 2: Calculate precision and recall\n",
    "precision, recall, thresholds = precision_recall_curve(y_test, y_pred)\n",
    "\n",
    "# Step 3: Plot the Precision-Recall Curve\n",
    "\n",
    "plt.plot(recall, precision, marker='.')\n",
    "plt.xlabel('Recall')\n",
    "plt.ylabel('Precision')\n",
    "plt.title('Precision-Recall Curve')\n",
    "\n",
    "# Step 4: Compute AUPR\n",
    "aupr = auc(recall, precision)\n",
    "print(\"Area Under Precision-Recall Curve (AUPR):\", aupr)"
   ]
  },
  {
   "cell_type": "code",
   "execution_count": 42,
   "metadata": {},
   "outputs": [
    {
     "name": "stdout",
     "output_type": "stream",
     "text": [
      "F1 Score: 0.0\n"
     ]
    }
   ],
   "source": [
    "# Assuming y_true contains the true labels and y_pred contains the predicted labels\n",
    "f1 = f1_score(y_test, y_pred)\n",
    "\n",
    "print(\"F1 Score:\", f1)"
   ]
  },
  {
   "cell_type": "code",
   "execution_count": null,
   "metadata": {},
   "outputs": [],
   "source": []
  }
 ],
 "metadata": {
  "kernelspec": {
   "display_name": "Python 3",
   "language": "python",
   "name": "python3"
  },
  "language_info": {
   "codemirror_mode": {
    "name": "ipython",
    "version": 3
   },
   "file_extension": ".py",
   "mimetype": "text/x-python",
   "name": "python",
   "nbconvert_exporter": "python",
   "pygments_lexer": "ipython3",
   "version": "3.10.8"
  }
 },
 "nbformat": 4,
 "nbformat_minor": 2
}
